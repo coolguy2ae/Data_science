{
  "metadata": {
    "kernelspec": {
      "name": "python",
      "display_name": "Python (Pyodide)",
      "language": "python"
    },
    "language_info": {
      "codemirror_mode": {
        "name": "python",
        "version": 3
      },
      "file_extension": ".py",
      "mimetype": "text/x-python",
      "name": "python",
      "nbconvert_exporter": "python",
      "pygments_lexer": "ipython3",
      "version": "3.8"
    }
  },
  "nbformat_minor": 5,
  "nbformat": 4,
  "cells": [
    {
      "id": "9a102cb9-0041-4c04-b40d-3af4dfa1fe5d",
      "cell_type": "markdown",
      "source": "## Tools for Data Science",
      "metadata": {}
    },
    {
      "id": "cae7e251-0156-4a72-90ac-718ce7afbb39",
      "cell_type": "markdown",
      "source": "### Introduction",
      "metadata": {}
    },
    {
      "id": "d84fe7ac-ae6f-4ae3-b3fd-7754c9141ba2",
      "cell_type": "markdown",
      "source": "#### Data Science Languanges\n\n- Python\n- R\n- SQL\n- Julia",
      "metadata": {}
    },
    {
      "id": "f985733d-dd58-43d1-acf6-a7e430ba8fce",
      "cell_type": "markdown",
      "source": "### Data Science Libraries\n- Pandas\n- NumPy\n- Matplotlib\n- Scikit-learn\n- TensorFlow",
      "metadata": {}
    },
    {
      "id": "660c0e2c-57c3-4583-b315-161a53bc1f6c",
      "cell_type": "markdown",
      "source": "### Data Science Tools\n\n| Tool          | Purpose                |\n|---------------|-------------------------|\n| Jupyter       | Interactive coding       |\n| RStudio       | Data analysis in R        |\n| TensorFlow    | Machine learning framework|\n| Apache Spark  | Big data processing       |",
      "metadata": {}
    },
    {
      "id": "c45f5510-dfc8-4189-ad7d-302c1b5cf2b7",
      "cell_type": "markdown",
      "source": "### Examples of Arithmetic Expressions",
      "metadata": {}
    },
    {
      "id": "53229aa8-dde7-4912-a9c2-e37bd49c267a",
      "cell_type": "code",
      "source": "# Addition\nx = 2+2\nprint(x)\n\n# Multiplication\ny = 5*2\nprint(y)",
      "metadata": {
        "trusted": true
      },
      "outputs": [
        {
          "name": "stdout",
          "output_type": "stream",
          "text": "4\n10\n"
        }
      ],
      "execution_count": 2
    },
    {
      "id": "02c0c42e-7878-4c00-aea3-854dd874bf30",
      "cell_type": "code",
      "source": "# Convert Minutes to Hours\n\nminutes = 180\nhours = minutes/60\nprint(hours)",
      "metadata": {
        "trusted": true
      },
      "outputs": [
        {
          "name": "stdout",
          "output_type": "stream",
          "text": "3.0\n"
        }
      ],
      "execution_count": 5
    },
    {
      "id": "889ed496-48c0-4b0d-a9e6-ccc4d8345f0c",
      "cell_type": "markdown",
      "source": "### Objectives\n\n- List popular languages for Data Science\n- List common libraries used in Data Science\n- Create tables to organize tools\n- Perform basic arithmetic operations using Python\n- Convert minutes into hours",
      "metadata": {}
    },
    {
      "id": "0ac695c9-5eca-4412-8efd-a358d1ea4b62",
      "cell_type": "markdown",
      "source": "#### Author\nHaroun Ahmad",
      "metadata": {}
    },
    {
      "id": "45b07cf1-050b-4d9c-8b9b-5fb3fc4f12f1",
      "cell_type": "code",
      "source": "",
      "metadata": {
        "trusted": true
      },
      "outputs": [],
      "execution_count": null
    }
  ]
}